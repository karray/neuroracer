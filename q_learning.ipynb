{
 "cells": [
  {
   "cell_type": "code",
   "execution_count": 1,
   "metadata": {},
   "outputs": [
    {
     "name": "stderr",
     "output_type": "stream",
     "text": [
      "Using TensorFlow backend.\n"
     ]
    }
   ],
   "source": [
    "#!/usr/bin/env python\n",
    "\n",
    "from collections import deque\n",
    "import time\n",
    "import random\n",
    "import os\n",
    "\n",
    "import numpy as np\n",
    "import cv2\n",
    "import gym\n",
    "import h5py\n",
    "\n",
    "# ROS packages required\n",
    "import rospy\n",
    "import rospkg\n",
    "\n",
    "from keras.models import load_model\n",
    "\n",
    "from neuroracer_gym.tasks import neuroracer_discrete_task\n",
    "\n",
    "import matplotlib.pyplot as plt\n",
    "\n",
    "%matplotlib inline"
   ]
  },
  {
   "cell_type": "code",
   "execution_count": null,
   "metadata": {},
   "outputs": [],
   "source": [
    "rospy.init_node('neuroracer_qlearn', anonymous=True, log_level=rospy.INFO)\n",
    "NeuroRacer(Agent, 100).run()"
   ]
  },
  {
   "cell_type": "code",
   "execution_count": null,
   "metadata": {},
   "outputs": [],
   "source": []
  },
  {
   "cell_type": "code",
   "execution_count": null,
   "metadata": {},
   "outputs": [],
   "source": [
    "a1 = np.array(range(20))/2.0\n",
    "a2 = np.empty(20)\n",
    "a2.fill(1.7)\n",
    "a2 = np.power(a2, a1)\n",
    "a1=a1**2\n",
    "a1\n",
    "plt.plot((a1), label='a1')\n",
    "\n",
    "plt.plot((a2), label='a2')\n",
    "plt.legend()\n",
    "print(a2-1)"
   ]
  },
  {
   "cell_type": "code",
   "execution_count": null,
   "metadata": {},
   "outputs": [],
   "source": [
    "rospy.init_node('neuroracer_qlearn', anonymous=True, log_level=rospy.INFO)\n",
    "env = gym.make('NeuroRacer-v0')"
   ]
  },
  {
   "cell_type": "code",
   "execution_count": null,
   "metadata": {},
   "outputs": [],
   "source": [
    "env.initial_position = {'p_x': np.random.uniform(1,4), 'p_y': 3.7, 'p_z': 0.05, 'o_x': 0, 'o_y': 0.0, 'o_z': np.random.uniform(0.4,1), 'o_w': 0.855}\n",
    "# env.initial_position = None\n",
    "state = env.reset()\n",
    "\n"
   ]
  },
  {
   "cell_type": "code",
   "execution_count": null,
   "metadata": {},
   "outputs": [],
   "source": [
    "rd = np.clip(ranges[170:180].mean(), None, 10)\n",
    "ld = np.clip(ranges[910:920].mean(), None, 10)\n",
    "print(ld,rd)"
   ]
  },
  {
   "cell_type": "code",
   "execution_count": null,
   "metadata": {},
   "outputs": [],
   "source": [
    "np.clip(ranges[525:535].mean(), None, 10)"
   ]
  },
  {
   "cell_type": "code",
   "execution_count": 2,
   "metadata": {},
   "outputs": [],
   "source": [
    "img_y_offset = 200\n",
    "img_y_scale = 0.2\n",
    "img_x_scale = 0.2\n",
    "\n",
    "class PolarRay:\n",
    "    def __init__(self, n_rays, min_angle, max_angle):\n",
    "        self.min_a = min_angle\n",
    "        self.max_a = max_angle\n",
    "        self.n = n_rays\n",
    "        self.l = np.abs(min_angle) + np.abs(max_angle)\n",
    "        self.lh = self.l/2\n",
    "        \n",
    "    def ray_to_rad(self, ray_idx):\n",
    "        return (self.lh-ray_idx*self.l/self.n)\n",
    "\n",
    "    def ray_to_degree(self, ray_idx):\n",
    "        return self.ray_to_rad(ray_idx)*180/np.pi\n",
    "\n",
    "    def degree_to_ray(self, degree):\n",
    "        return np.round((self.lh - degree*np.pi/180.0)*self.n/self.l).astype(np.int32)"
   ]
  },
  {
   "cell_type": "code",
   "execution_count": 26,
   "metadata": {},
   "outputs": [
    {
     "data": {
      "text/plain": [
       "<BarContainer object of 1 artists>"
      ]
     },
     "execution_count": 26,
     "metadata": {},
     "output_type": "execute_result"
    },
    {
     "data": {
      "image/png": "[encoded data removed]",
      "text/plain": [
       "<Figure size 432x288 with 1 Axes>"
      ]
     },
     "metadata": {
      "needs_background": "light"
     },
     "output_type": "display_data"
    }
   ],
   "source": [
    "pr = PolarRay(1081, -2.3561944902, 2.3561944902)\n",
    "\n",
    "\n",
    "fig = plt.figure()\n",
    "plt1 = fig.add_subplot(1,1,1, polar=True)\n",
    "\n",
    "plt1.set_yticklabels([])\n",
    "plt1.set_ylim(0, 1)\n",
    "plt1.set_thetamin(pr.min_a*180/np.pi)\n",
    "plt1.set_thetamax(pr.max_a*180/np.pi)\n",
    "plt1.set_theta_offset(np.pi/2)\n",
    "plt1.set_xticks([pr.max_a, 90*np.pi/180, 0, -90*np.pi/180, pr.min_a])\n",
    "\n",
    "r = pr.ray_to_rad(180) \n",
    "rw = pr.ray_to_rad(185)-pr.ray_to_rad(175)\n",
    "\n",
    "c = pr.ray_to_rad(540)\n",
    "cw = pr.ray_to_rad(555)-pr.ray_to_rad(525)\n",
    "\n",
    "l = pr.ray_to_rad(900)\n",
    "lw = pr.ray_to_rad(905)-pr.ray_to_rad(895)\n",
    "\n",
    "# ax.plot(np.full(2,ray_to_rad(180, 1081, -2.3561944902, 2.356194490)),y)\n",
    "plt1.bar([r],[1], width=rw)\n",
    "plt1.bar([c],[1], width=cw)\n",
    "plt1.bar([l],[1], width=lw)"
   ]
  },
  {
   "cell_type": "code",
   "execution_count": 27,
   "metadata": {},
   "outputs": [
    {
     "data": {
      "text/plain": [
       "901"
      ]
     },
     "execution_count": 27,
     "metadata": {},
     "output_type": "execute_result"
    }
   ],
   "source": [
    "pr.degree_to_ray(-90)"
   ]
  },
  {
   "cell_type": "code",
   "execution_count": null,
   "metadata": {},
   "outputs": [],
   "source": [
    "img = env.reset()\n",
    "states = deque(maxlen=4)\n",
    "for i in range(4):\n",
    "    states.append(preprocess(img))\n"
   ]
  },
  {
   "cell_type": "code",
   "execution_count": null,
   "metadata": {},
   "outputs": [],
   "source": [
    "model = load_model('model_0.h5')\n",
    "# model = load_model('neuroracer.h5')"
   ]
  },
  {
   "cell_type": "code",
   "execution_count": null,
   "metadata": {},
   "outputs": [],
   "source": [
    "img = env.reset()\n",
    "states = deque(maxlen=4)\n",
    "for i in range(4):\n",
    "    states.append(preprocess(img))\n",
    "done = False\n",
    "trail=0\n",
    "while trail<3:\n",
    "    action = np.argmax(model.predict(np.expand_dims(np.stack(states, axis=2), axis=0))[0])\n",
    "    img, reward, done, _ = env.step(action)\n",
    "    states.append(preprocess(img))\n",
    "    if done:\n",
    "        trail+=1\n",
    "        done = False\n",
    "        img = env.reset()\n",
    "        for i in range(4):\n",
    "            states.append( preprocess(img))"
   ]
  },
  {
   "cell_type": "code",
   "execution_count": null,
   "metadata": {},
   "outputs": [],
   "source": [
    "# env.set_sleep_rate(100)\n",
    "# env.number_of_sleeps = 10\n",
    "# env.speed = 1\n",
    "\n",
    "# img = env.reset()\n",
    "# plt.figure()\n",
    "# plt.imshow(img)\n",
    "\n",
    "# for i in range(10):\n",
    "img, reward, done, _ = env.step(1)\n",
    "\n",
    "states = deque(maxlen=4)\n",
    "\n",
    "plt.figure()\n",
    "src = cv2.cvtColor(img[200:,:], cv2.COLOR_RGB2GRAY)\n",
    "img1 = cv2.resize(src, None, fx = 0.2, fy = 0.2, interpolation = cv2.INTER_LINEAR )\n",
    "plt.imshow(img1, cmap='gray')\n",
    "states.append(img1)\n",
    "\n",
    "img, reward, done, _ = env.step(1)\n",
    "img, reward, done, _ = env.step(1)\n",
    "img, reward, done, _ = env.step(1)\n",
    "img, reward, done, _ = env.step(1)\n",
    "plt.figure()\n",
    "src = cv2.cvtColor(img[200:,:], cv2.COLOR_RGB2GRAY)\n",
    "img1 = cv2.resize(src, None, fx = 0.2, fy = 0.2, interpolation = cv2.INTER_LINEAR )\n",
    "plt.imshow(img1, cmap='gray')\n",
    "states.append(img1)\n",
    "\n",
    "img, reward, done, _ = env.step(1)\n",
    "img, reward, done, _ = env.step(1)\n",
    "img, reward, done, _ = env.step(1)\n",
    "img, reward, done, _ = env.step(1)\n",
    "plt.figure()\n",
    "src = cv2.cvtColor(img[200:,:], cv2.COLOR_RGB2GRAY)\n",
    "img1 = cv2.resize(src, None, fx = 0.2, fy = 0.2, interpolation = cv2.INTER_LINEAR )\n",
    "states.append(img1)\n",
    "\n",
    "plt.imshow(img1, cmap='gray')\n",
    "img, reward, done, _ = env.step(1)\n",
    "img, reward, done, _ = env.step(1)\n",
    "img, reward, done, _ = env.step(1)\n",
    "img, reward, done, _ = env.step(1)\n",
    "plt.figure()\n",
    "src = cv2.cvtColor(img[200:,:], cv2.COLOR_RGB2GRAY)\n",
    "img1 = cv2.resize(src, None, fx = 0.2, fy = 0.2, interpolation = cv2.INTER_LINEAR )\n",
    "states.append(img1)\n",
    "\n",
    "plt.imshow(img1, cmap='gray')\n",
    "img, reward, done, _ = env.step(1)\n",
    "img, reward, done, _ = env.step(1)\n",
    "img, reward, done, _ = env.step(1)\n",
    "img, reward, done, _ = env.step(1)\n",
    "plt.figure()\n",
    "src = cv2.cvtColor(img[200:,:], cv2.COLOR_RGB2GRAY)\n",
    "img1 = cv2.resize(src, None, fx = 0.2, fy = 0.2, interpolation = cv2.INTER_LINEAR )\n",
    "plt.imshow(img1, cmap='gray')\n",
    "states.append(img1)"
   ]
  },
  {
   "cell_type": "code",
   "execution_count": null,
   "metadata": {},
   "outputs": [],
   "source": [
    "states_stacked = np.stack(states, axis=2)\n",
    "# states_stacked.shape\n",
    "# ssa = np.expand_dims()\n",
    "\n",
    "# actions, s, ns, rewards, terminates = memory.sample(6)\n",
    "# s.shape"
   ]
  },
  {
   "cell_type": "code",
   "execution_count": null,
   "metadata": {},
   "outputs": [],
   "source": [
    "plt.imshow(np.flip(states_stacked, axis=1)[:,:,0], cmap='gray')"
   ]
  },
  {
   "cell_type": "code",
   "execution_count": null,
   "metadata": {},
   "outputs": [],
   "source": [
    "src = cv2.cvtColor(img[200:,:], cv2.COLOR_RGB2GRAY)\n",
    "img1 = cv2.resize(src, None, fx = 0.2, fy = 0.2, interpolation = cv2.INTER_LINEAR )\n",
    "plt.imshow(img1, cmap='gray')"
   ]
  },
  {
   "cell_type": "code",
   "execution_count": null,
   "metadata": {},
   "outputs": [],
   "source": [
    "next_state = deque(maxlen=4)\n",
    "next_state.append(img1)\n",
    "next_state.append(img1)\n",
    "next_state.append(img1)\n",
    "next_state.append(img1)"
   ]
  },
  {
   "cell_type": "code",
   "execution_count": null,
   "metadata": {},
   "outputs": [],
   "source": [
    "test_state = deque(maxlen=10)\n",
    "test_state.append((np.stack(next_state, axis=2)))\n",
    "test_state.append((np.stack(next_state, axis=2)))                 \n",
    "test_state.append((np.stack(next_state, axis=2)))                 \n",
    "test_state.append((np.stack(next_state, axis=2)))                 \n",
    "test_state.append((np.stack(next_state, axis=2)))                 \n",
    "test_state.append((np.stack(next_state, axis=2)))\n",
    "np.array(test_state, dtype=np.float32).shape\n"
   ]
  },
  {
   "cell_type": "code",
   "execution_count": null,
   "metadata": {},
   "outputs": [],
   "source": [
    "sample_batch_size = 6\n",
    "actions, states, next_states, rewards, terminates = memory.sample(sample_batch_size)\n",
    "not_done = np.invert(terminates)\n",
    "not_done_pred = model.predict(next_states[not_done]).max(axis=1)\n",
    "rewards[not_done]+= 0.9 * not_done_pred\n",
    "target = model.predict(states)\n",
    "target[np.arange(sample_batch_size), actions] = rewards"
   ]
  },
  {
   "cell_type": "code",
   "execution_count": null,
   "metadata": {},
   "outputs": [],
   "source": [
    "a = np.argmax(model.predict(np.expand_dims(np.stack(next_state, axis=2), axis=0))[0])\n",
    "print(a)\n",
    "img, reward, done, _ = env.step(a)\n",
    "\n",
    "src = cv2.cvtColor(img[200:,:], cv2.COLOR_RGB2GRAY)\n",
    "img1 = cv2.resize(src, None, fx = 0.2, fy = 0.2, interpolation = cv2.INTER_LINEAR )\n",
    "next_state.append(img1)\n",
    "plt.imshow(img1, cmap='gray')"
   ]
  },
  {
   "cell_type": "code",
   "execution_count": null,
   "metadata": {},
   "outputs": [],
   "source": [
    "plt.figure()\n",
    "plt.imshow(np.stack(next_state, axis=2)[:,:,0], cmap='gray')\n",
    "plt.figure()\n",
    "plt.imshow(np.stack(next_state, axis=2)[:,:,1], cmap='gray')\n",
    "plt.figure()\n",
    "plt.imshow(np.stack(next_state, axis=2)[:,:,2], cmap='gray')\n",
    "plt.figure()\n",
    "plt.imshow(np.stack(next_state, axis=2)[:,:,3], cmap='gray')"
   ]
  },
  {
   "cell_type": "code",
   "execution_count": null,
   "metadata": {},
   "outputs": [],
   "source": [
    "b = deque(maxlen=4)\n",
    "b.append(img1)\n",
    "b.append(img1)\n",
    "b.append(img1)\n",
    "b.append(img1)\n",
    "\n",
    "h = np.expand_dims(np.stack(b, axis=2), axis=0)"
   ]
  },
  {
   "cell_type": "code",
   "execution_count": null,
   "metadata": {},
   "outputs": [],
   "source": [
    "# import h5py\n",
    "import numpy as np\n",
    "import random"
   ]
  },
  {
   "cell_type": "code",
   "execution_count": null,
   "metadata": {},
   "outputs": [],
   "source": [
    "for i in np.random.choice([1], 2, False):\n",
    "    print(i)"
   ]
  },
  {
   "cell_type": "code",
   "execution_count": null,
   "metadata": {},
   "outputs": [],
   "source": [
    "m1 = H5Buffer((2,),10)\n",
    "m1.append(np.array([1,2,3,4,5,6]))\n",
    "m1.actions[:]"
   ]
  },
  {
   "cell_type": "code",
   "execution_count": null,
   "metadata": {},
   "outputs": [],
   "source": [
    "m1.append(np.array([0, 1,2,3,4,5,6,7,8]))\n",
    "m1.actions[:]"
   ]
  },
  {
   "cell_type": "code",
   "execution_count": null,
   "metadata": {},
   "outputs": [],
   "source": [
    "m1.sample(0,m1.length())"
   ]
  },
  {
   "cell_type": "code",
   "execution_count": null,
   "metadata": {},
   "outputs": [],
   "source": [
    "m1.close()"
   ]
  },
  {
   "cell_type": "code",
   "execution_count": null,
   "metadata": {},
   "outputs": [],
   "source": [
    "img = preprocess(env.reset())\n",
    "states = deque(maxlen=4)\n",
    "for i in range(4):\n",
    "    states.append(img)\n",
    "    \n",
    "data = np.stack(states, axis=2)\n",
    "memory.append(0,data,data, 1.0, False)\n",
    "memory.append(1,data,data, 2.0, True)              \n",
    "memory.append(2,data,data, 3.0, True)              \n",
    "memory.append(0,data,data, 4.0, False)              \n",
    "memory.append(1,data,data, 5.0, True)              \n",
    "memory.append(2,data,data, 6.0, False)              \n",
    "memory.append(0,data,data, 7.0, True)              \n",
    "memory.append(1,data,data, 8.0, False)              \n",
    "memory.append(2,data,data, 9.0, True)              \n",
    "memory.append(0,data,data, 10.0, True)              \n",
    "memory.append(1,data,data, 11.0, False)              "
   ]
  },
  {
   "cell_type": "code",
   "execution_count": null,
   "metadata": {},
   "outputs": [],
   "source": [
    "actions, states, next_states, rewards, terminates = memory.sample(4)"
   ]
  },
  {
   "cell_type": "code",
   "execution_count": null,
   "metadata": {},
   "outputs": [],
   "source": [
    "np.concatenate((states,next_states)).shape"
   ]
  },
  {
   "cell_type": "code",
   "execution_count": null,
   "metadata": {},
   "outputs": [],
   "source": [
    "print(actions)\n",
    "print(2-actions)"
   ]
  },
  {
   "cell_type": "code",
   "execution_count": null,
   "metadata": {},
   "outputs": [],
   "source": [
    "rewards[np.invert(terminates)]+= 1 + actions[np.invert(terminates)]"
   ]
  },
  {
   "cell_type": "code",
   "execution_count": null,
   "metadata": {},
   "outputs": [],
   "source": [
    "print(states.shape)\n",
    "flipped = np.flip(states, axis=2)\n",
    "plt.figure()\n",
    "plt.imshow(states[0,:,:,0], cmap='gray')\n",
    "plt.figure()\n",
    "plt.imshow(flipped[0,:,:,0], cmap='gray')"
   ]
  },
  {
   "cell_type": "code",
   "execution_count": null,
   "metadata": {},
   "outputs": [],
   "source": [
    "i = 0\n",
    "while True:\n",
    "    i+=1\n",
    "    next_state, reward, done, _ = env.step(1)\n",
    "    if done:\n",
    "        print(i)\n",
    "        i = 0\n",
    "        env.reset()\n",
    "# plt.imshow(next_state)\n"
   ]
  },
  {
   "cell_type": "code",
   "execution_count": null,
   "metadata": {},
   "outputs": [],
   "source": [
    "print(degree_to_ray(np.array([-90, 90]), 1081, -2.3561944902, 2.3561944902))\n",
    "print(ray_to_degree(180, 1081, -2.3561944902, 2.356194490))\n",
    "print(ray_to_rad(180, 1081, -2.3561944902, 2.356194490))\n",
    "ray_to_rad(175, 1081, -2.3561944902, 2.356194490)-ray_to_rad(185, 1081, -2.3561944902, 2.356194490)"
   ]
  },
  {
   "cell_type": "code",
   "execution_count": null,
   "metadata": {},
   "outputs": [],
   "source": [
    "np.full(2,1)"
   ]
  }
 ],
 "metadata": {
  "kernelspec": {
   "display_name": "Python 2",
   "language": "python",
   "name": "python2"
  },
  "language_info": {
   "codemirror_mode": {
    "name": "ipython",
    "version": 2
   },
   "file_extension": ".py",
   "mimetype": "text/x-python",
   "name": "python",
   "nbconvert_exporter": "python",
   "pygments_lexer": "ipython2",
   "version": "2.7.15rc1"
  }
 },
 "nbformat": 4,
 "nbformat_minor": 2
}
